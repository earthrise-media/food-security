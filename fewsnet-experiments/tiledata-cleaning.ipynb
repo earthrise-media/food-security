{
 "cells": [
  {
   "cell_type": "code",
   "execution_count": 41,
   "metadata": {},
   "outputs": [],
   "source": [
    "import pandas as pd\n",
    "import geopandas as gpd\n",
    "import requests\n",
    "from datetime import date\n",
    "import plotly.express as px\n",
    "import numpy as np\n",
    "import time as time\n",
    "from shapely.geometry import Polygon\n",
    "import json"
   ]
  },
  {
   "cell_type": "code",
   "execution_count": 5,
   "metadata": {},
   "outputs": [],
   "source": [
    "# read ./data/fewsnet_grid/all_fewsnet_grid_ffill.geojson as geodataframe\n",
    "world_grid = gpd.read_file('./data/fewsnet_grid/all_fewsnet_grid_ffill.mbtiles')"
   ]
  },
  {
   "cell_type": "code",
   "execution_count": 42,
   "metadata": {},
   "outputs": [
    {
     "data": {
      "text/plain": [
       "Index(['ADMIN0-2009-10', 'ADMIN0-2011-07', 'ADMIN0-2012-04', 'ADMIN0-2013-04',\n",
       "       'ADMIN0-2014-10', 'ADMIN0-2021-10_left', 'ADMIN0-2021-10_left_1',\n",
       "       'ADMIN0-2021-10_right', 'ADMIN0-2021-10_right_1', 'ADMIN0_lef-2010-07',\n",
       "       ...\n",
       "       'index_righ-2014-10', 'report_mon-2021-10_left',\n",
       "       'report_mon-2021-10_left_1', 'report_mon-2021-10_right',\n",
       "       'report_mon-2021-10_right_1', 'unit_name-2021-10_left',\n",
       "       'unit_name-2021-10_left_1', 'unit_name-2021-10_right',\n",
       "       'unit_name-2021-10_right_1', 'geometry'],\n",
       "      dtype='object', length=219)"
      ]
     },
     "execution_count": 42,
     "metadata": {},
     "output_type": "execute_result"
    }
   ],
   "source": [
    "world_grid.columns\n"
   ]
  },
  {
   "cell_type": "code",
   "execution_count": 46,
   "metadata": {},
   "outputs": [],
   "source": [
    "# create a dataframe with world_grid but only columns that begin with CS and HA0\n",
    "wgc = world_grid.filter(regex='^(CS|HA0|geometry)')"
   ]
  },
  {
   "cell_type": "code",
   "execution_count": 49,
   "metadata": {},
   "outputs": [
    {
     "name": "stderr",
     "output_type": "stream",
     "text": [
      "/opt/homebrew/Caskroom/miniforge/base/envs/geo/lib/python3.10/site-packages/pyproj/crs/crs.py:141: FutureWarning: '+init=<authority>:<code>' syntax is deprecated. '<authority>:<code>' is the preferred initialization method. When making the change, be mindful of axis order changes: https://pyproj4.github.io/pyproj/stable/gotchas.html#axis-order-changes-in-proj-6\n",
      "  in_crs_string = _prepare_from_proj_string(in_crs_string)\n"
     ]
    }
   ],
   "source": [
    "# convert wgc to geodataframe\n",
    "wgc = gpd.GeoDataFrame(wgc)\n",
    "# set geometry to geometry column\n",
    "wgc.set_geometry('geometry')\n",
    "\n",
    "# set epsg of wgc to be 4326\n",
    "wgc.crs = {'init': 'epsg:4326'}"
   ]
  },
  {
   "cell_type": "code",
   "execution_count": 50,
   "metadata": {},
   "outputs": [
    {
     "name": "stdout",
     "output_type": "stream",
     "text": [
      "Collecting raster2xyz\n",
      "  Downloading raster2xyz-0.1.3.tar.gz (4.1 kB)\n",
      "  Preparing metadata (setup.py) ... \u001b[?25ldone\n",
      "\u001b[?25hRequirement already satisfied: numpy in /opt/homebrew/Caskroom/miniforge/base/envs/geo/lib/python3.10/site-packages (from raster2xyz) (1.23.3)\n",
      "Requirement already satisfied: pandas in /opt/homebrew/Caskroom/miniforge/base/envs/geo/lib/python3.10/site-packages (from raster2xyz) (1.4.4)\n",
      "Requirement already satisfied: GDAL in /opt/homebrew/Caskroom/miniforge/base/envs/geo/lib/python3.10/site-packages (from raster2xyz) (3.5.1)\n",
      "Requirement already satisfied: pytz>=2020.1 in /opt/homebrew/Caskroom/miniforge/base/envs/geo/lib/python3.10/site-packages (from pandas->raster2xyz) (2022.2.1)\n",
      "Requirement already satisfied: python-dateutil>=2.8.1 in /opt/homebrew/Caskroom/miniforge/base/envs/geo/lib/python3.10/site-packages (from pandas->raster2xyz) (2.8.2)\n",
      "Requirement already satisfied: six>=1.5 in /opt/homebrew/Caskroom/miniforge/base/envs/geo/lib/python3.10/site-packages (from python-dateutil>=2.8.1->pandas->raster2xyz) (1.16.0)\n",
      "Building wheels for collected packages: raster2xyz\n",
      "  Building wheel for raster2xyz (setup.py) ... \u001b[?25ldone\n",
      "\u001b[?25h  Created wheel for raster2xyz: filename=raster2xyz-0.1.3-py3-none-any.whl size=5948 sha256=e895335f88b0dfaf8e3f2f635f659aee0052536a5cee8021b177134e94d68d68\n",
      "  Stored in directory: /Users/camkruse/Library/Caches/pip/wheels/ef/5e/51/6df10cfc8d97148b3f46dd034ff2d748748d3b70ec53fbee69\n",
      "Successfully built raster2xyz\n",
      "Installing collected packages: raster2xyz\n",
      "Successfully installed raster2xyz-0.1.3\n",
      "Note: you may need to restart the kernel to use updated packages.\n"
     ]
    }
   ],
   "source": [
    "pip install raster2xyz"
   ]
  },
  {
   "cell_type": "code",
   "execution_count": 51,
   "metadata": {},
   "outputs": [
    {
     "name": "stderr",
     "output_type": "stream",
     "text": [
      "[2022-11-17 12:57:08 - INFO] - Getting geotransform and data...\n",
      "[2022-11-17 12:57:15 - INFO] - Getting XYZ data...\n",
      "[2022-11-17 12:57:29 - INFO] - Getting geotransformed coordinates...\n",
      "[2022-11-17 12:58:13 - INFO] - Building XYZ data...\n",
      "[2022-11-17 01:25:02 - INFO] - New XYZ (csv file) created...\n"
     ]
    },
    {
     "data": {
      "text/html": [
       "<div>\n",
       "<style scoped>\n",
       "    .dataframe tbody tr th:only-of-type {\n",
       "        vertical-align: middle;\n",
       "    }\n",
       "\n",
       "    .dataframe tbody tr th {\n",
       "        vertical-align: top;\n",
       "    }\n",
       "\n",
       "    .dataframe thead th {\n",
       "        text-align: right;\n",
       "    }\n",
       "</style>\n",
       "<table border=\"1\" class=\"dataframe\">\n",
       "  <thead>\n",
       "    <tr style=\"text-align: right;\">\n",
       "      <th></th>\n",
       "      <th>x</th>\n",
       "      <th>y</th>\n",
       "      <th>z</th>\n",
       "    </tr>\n",
       "  </thead>\n",
       "  <tbody>\n",
       "    <tr>\n",
       "      <th>0</th>\n",
       "      <td>-179.997083</td>\n",
       "      <td>83.995417</td>\n",
       "      <td>-3.402823e+38</td>\n",
       "    </tr>\n",
       "    <tr>\n",
       "      <th>1</th>\n",
       "      <td>-179.988749</td>\n",
       "      <td>83.995417</td>\n",
       "      <td>-3.402823e+38</td>\n",
       "    </tr>\n",
       "    <tr>\n",
       "      <th>2</th>\n",
       "      <td>-179.980416</td>\n",
       "      <td>83.995417</td>\n",
       "      <td>-3.402823e+38</td>\n",
       "    </tr>\n",
       "    <tr>\n",
       "      <th>3</th>\n",
       "      <td>-179.972083</td>\n",
       "      <td>83.995417</td>\n",
       "      <td>-3.402823e+38</td>\n",
       "    </tr>\n",
       "    <tr>\n",
       "      <th>4</th>\n",
       "      <td>-179.963749</td>\n",
       "      <td>83.995417</td>\n",
       "      <td>-3.402823e+38</td>\n",
       "    </tr>\n",
       "    <tr>\n",
       "      <th>...</th>\n",
       "      <td>...</td>\n",
       "      <td>...</td>\n",
       "      <td>...</td>\n",
       "    </tr>\n",
       "    <tr>\n",
       "      <th>808703995</th>\n",
       "      <td>179.961249</td>\n",
       "      <td>-71.996250</td>\n",
       "      <td>-3.402823e+38</td>\n",
       "    </tr>\n",
       "    <tr>\n",
       "      <th>808703996</th>\n",
       "      <td>179.969583</td>\n",
       "      <td>-71.996250</td>\n",
       "      <td>-3.402823e+38</td>\n",
       "    </tr>\n",
       "    <tr>\n",
       "      <th>808703997</th>\n",
       "      <td>179.977916</td>\n",
       "      <td>-71.996250</td>\n",
       "      <td>-3.402823e+38</td>\n",
       "    </tr>\n",
       "    <tr>\n",
       "      <th>808703998</th>\n",
       "      <td>179.986249</td>\n",
       "      <td>-71.996250</td>\n",
       "      <td>-3.402823e+38</td>\n",
       "    </tr>\n",
       "    <tr>\n",
       "      <th>808703999</th>\n",
       "      <td>179.994583</td>\n",
       "      <td>-71.996250</td>\n",
       "      <td>-3.402823e+38</td>\n",
       "    </tr>\n",
       "  </tbody>\n",
       "</table>\n",
       "<p>808704000 rows × 3 columns</p>\n",
       "</div>"
      ],
      "text/plain": [
       "                    x          y             z\n",
       "0         -179.997083  83.995417 -3.402823e+38\n",
       "1         -179.988749  83.995417 -3.402823e+38\n",
       "2         -179.980416  83.995417 -3.402823e+38\n",
       "3         -179.972083  83.995417 -3.402823e+38\n",
       "4         -179.963749  83.995417 -3.402823e+38\n",
       "...               ...        ...           ...\n",
       "808703995  179.961249 -71.996250 -3.402823e+38\n",
       "808703996  179.969583 -71.996250 -3.402823e+38\n",
       "808703997  179.977916 -71.996250 -3.402823e+38\n",
       "808703998  179.986249 -71.996250 -3.402823e+38\n",
       "808703999  179.994583 -71.996250 -3.402823e+38\n",
       "\n",
       "[808704000 rows x 3 columns]"
      ]
     },
     "execution_count": 51,
     "metadata": {},
     "output_type": "execute_result"
    }
   ],
   "source": [
    "from raster2xyz.raster2xyz import Raster2xyz\n",
    "\n",
    "input_raster = \"./data/ppp_2020_1km_Aggregated.tif\"\n",
    "out_csv = \"./data/ppp_2020_1km_Aggregated.csv\"\n",
    "\n",
    "rtxyz = Raster2xyz()\n",
    "rtxyz.translate(input_raster, out_csv)\n",
    "\n",
    "pop_df = pd.read_csv(out_csv)\n",
    "pop_df"
   ]
  },
  {
   "cell_type": "code",
   "execution_count": null,
   "metadata": {},
   "outputs": [],
   "source": []
  }
 ],
 "metadata": {
  "kernelspec": {
   "display_name": "Python 3.10.6 ('geo')",
   "language": "python",
   "name": "python3"
  },
  "language_info": {
   "codemirror_mode": {
    "name": "ipython",
    "version": 3
   },
   "file_extension": ".py",
   "mimetype": "text/x-python",
   "name": "python",
   "nbconvert_exporter": "python",
   "pygments_lexer": "ipython3",
   "version": "3.10.6"
  },
  "orig_nbformat": 4,
  "vscode": {
   "interpreter": {
    "hash": "ce408d48c041f753076dbaea90f671b6d136b2c04f48a62e0a991cf8ef98bfb1"
   }
  }
 },
 "nbformat": 4,
 "nbformat_minor": 2
}
